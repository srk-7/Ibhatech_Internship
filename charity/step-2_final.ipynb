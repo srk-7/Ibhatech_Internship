{
 "cells": [
  {
   "cell_type": "code",
   "execution_count": 1,
   "id": "db7e3d07-67db-406d-bfde-a6607f03a35f",
   "metadata": {},
   "outputs": [],
   "source": [
    "# we got the data.csv having fields Charity number, Charity name, Status, Income, Reporting, link of the respective charity\n",
    "# in step 2 we need to get go into the each of the link in the csv last column\n",
    "# click on the contact details and we navigate to next page where we get the data of address, phone number, link of website\n",
    "\n",
    "import selenium\n",
    "from selenium import webdriver\n",
    "from selenium.webdriver.common.by import By\n",
    "from selenium.webdriver.support.ui import WebDriverWait\n",
    "from selenium.webdriver.support import expected_conditions as EC"
   ]
  },
  {
   "cell_type": "code",
   "execution_count": null,
   "id": "9f2c2db0-386b-4834-a16f-efa04e536721",
   "metadata": {},
   "outputs": [],
   "source": [
    "import pandas as pd\n",
    "data=pd.read_csv(\"data.csv\",index_col=False)\n",
    "data.head()"
   ]
  },
  {
   "cell_type": "code",
   "execution_count": 12,
   "id": "261bfdfd-918d-4d05-a575-720ece24eadc",
   "metadata": {},
   "outputs": [
    {
     "name": "stdout",
     "output_type": "stream",
     "text": [
      "['https://register-of-charities.charitycommission.gov.uk/charity-search/-/charity-details/205533', 'https://register-of-charities.charitycommission.gov.uk/charity-search/-/charity-details/210183', 'https://register-of-charities.charitycommission.gov.uk/charity-search/-/charity-details/3961959', nan]\n"
     ]
    }
   ],
   "source": [
    "def fetch_last_column_pandas(csv_file_path):\n",
    "    df = pd.read_csv(csv_file_path)\n",
    "    return df.iloc[:, -1].tolist()\n",
    "\n",
    "csv_file = \"data.csv\"\n",
    "last_column_data = fetch_last_column_pandas(csv_file)\n",
    "print(last_column_data)"
   ]
  },
  {
   "cell_type": "code",
   "execution_count": null,
   "id": "ca652e90-8062-4c87-b0b3-69101e655216",
   "metadata": {},
   "outputs": [],
   "source": [
    "extracted_data = []\n",
    "driver = webdriver.Chrome()\n",
    "\n",
    "for link in last_column_data:\n",
    "    driver.get(link)\n",
    "    try:\n",
    "        # Close cookie consent banner if present\n",
    "        try:\n",
    "            cross_button = driver.find_element(By.ID, \"_com_placecube_cookieconsent_web_portlet_CookieConsentPortlet_cookie-consent-close\")\n",
    "            cross_button.click()\n",
    "        except:\n",
    "            pass  # Ignore if cookie consent banner is not present\n",
    "        \n",
    "        # Clicking on the contact link to navigate to the details page\n",
    "        contact_link = WebDriverWait(driver, 10).until(EC.element_to_be_clickable((By.XPATH, \"//a[contains(text(), 'Contact')]\")))\n",
    "        contact_link.click()\n",
    "\n",
    "        # Waiting until an element on the page is visible\n",
    "        WebDriverWait(driver, 50).until(EC.visibility_of_element_located((By.XPATH, \"//dt[contains(text(), 'Address:')]/following-sibling::dd\")))\n",
    "\n",
    "        # Extract address\n",
    "        address_element = driver.find_element(By.XPATH, \"//dt[contains(text(), 'Address:')]/following-sibling::dd[@class='govuk-summary-list__value']\")\n",
    "        address_data = address_element.text.strip().replace('\\n', ', ')\n",
    "        print(\"Address:\", address_data)\n",
    "\n",
    "        # Extract webpage link\n",
    "        webpage_link = driver.find_element(By.ID, \"charity-contact-website-link\")\n",
    "        webpage_url = webpage_link.get_attribute(\"href\")\n",
    "        print(\"Webpage URL:\", webpage_url)\n",
    "        \n",
    "        # Extract phone number\n",
    "        phone_element = driver.find_element(By.XPATH, \"//dt[contains(text(), 'Phone:')]/following-sibling::dd[@class='govuk-summary-list__value']\")\n",
    "        phone_number = phone_element.text.strip()\n",
    "        print(\"Phone Number:\", phone_number)\n",
    "    \n",
    "    except Exception as e:\n",
    "        print(\"Error:\", e)\n",
    "\n",
    "    extracted_data.append([address_data, webpage_url, phone_number])\n",
    "\n",
    "driver.quit()"
   ]
  },
  {
   "cell_type": "code",
   "execution_count": 34,
   "id": "f6490dd4-39e4-4b29-85b0-6f820aa6102e",
   "metadata": {},
   "outputs": [
    {
     "name": "stdout",
     "output_type": "stream",
     "text": [
      "Data written to data2.csv file.\n"
     ]
    }
   ],
   "source": [
    "import csv\n",
    "with open('data2.csv', mode='a', newline='', encoding='utf-8') as file:\n",
    "    writer = csv.writer(file)\n",
    "    writer.writerow(['Address', 'Webpage URL', 'Phone Number'])\n",
    "    writer.writerows(extracted_data)\n",
    "\n",
    "print(\"Data written to data2.csv file.\")"
   ]
  }
 ],
 "metadata": {
  "kernelspec": {
   "display_name": "Python 3 (ipykernel)",
   "language": "python",
   "name": "python3"
  },
  "language_info": {
   "codemirror_mode": {
    "name": "ipython",
    "version": 3
   },
   "file_extension": ".py",
   "mimetype": "text/x-python",
   "name": "python",
   "nbconvert_exporter": "python",
   "pygments_lexer": "ipython3",
   "version": "3.10.11"
  }
 },
 "nbformat": 4,
 "nbformat_minor": 5
}
