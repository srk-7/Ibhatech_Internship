{
 "cells": [
  {
   "cell_type": "code",
   "execution_count": 1,
   "id": "89fdb8f9-02f8-4f6f-978e-77624308e81b",
   "metadata": {},
   "outputs": [],
   "source": [
    "#1 billion to 1 trillion\n",
    "import selenium\n",
    "from selenium import webdriver\n",
    "from selenium.webdriver.common.by import By\n",
    "from selenium.webdriver.support.ui import WebDriverWait\n",
    "from selenium.webdriver.support import expected_conditions as EC\n",
    "\n",
    "driver=webdriver.Chrome()\n",
    "driver.get(\"https://register-of-charities.charitycommission.gov.uk/charity-search?p_p_id=uk_gov_ccew_portlet_CharitySearchPortlet&p_p_lifecycle=0&p_p_state=normal&p_p_mode=view&_uk_gov_ccew_portlet_CharitySearchPortlet_mvcRenderCommandName=%2Fadvanced-search\")\n",
    "\n",
    "cross_button=driver.find_element(By.ID, \"_com_placecube_cookieconsent_web_portlet_CookieConsentPortlet_cookie-consent-close\")\n",
    "cross_button.click()\n",
    "\n",
    "txt1=driver.find_element(By.ID,\"_uk_gov_ccew_portlet_CharitySearchPortlet_filterExpenditureFrom\")\n",
    "txt1.send_keys(\"1000000000\")\n",
    "\n",
    "txt1=driver.find_element(By.ID,\"_uk_gov_ccew_portlet_CharitySearchPortlet_filterExpenditureTo\")\n",
    "txt1.send_keys(\"1000000000000\")\n",
    "\n",
    "searchbutton=driver.find_element(By.ID, \"_uk_gov_ccew_portlet_CharitySearchPortlet_applyFilters\")\n",
    "searchbutton.click()"
   ]
  },
  {
   "cell_type": "code",
   "execution_count": 2,
   "id": "1cc6ca1a-c948-42c9-9d28-f5b668d01618",
   "metadata": {},
   "outputs": [
    {
     "name": "stdout",
     "output_type": "stream",
     "text": [
      "[]\n",
      "['205533', 'NUFFIELD HEALTH', 'Registered', '£1,238,400,000', 'Received: On time']\n",
      "['210183', 'WELLCOME TRUST', 'Registered', '£502,291,234', 'Received: On time']\n",
      "['1076822', 'SAVE THE CHILDREN INTERNATIONAL', 'Registered', '£1,309,489,397', 'Received: On time']\n",
      "['', '', '', '', '']\n"
     ]
    }
   ],
   "source": [
    "# stored the fetched result data into to the list of lists\n",
    "table = driver.find_element(By.ID, \"_uk_gov_ccew_portlet_CharitySearchPortlet_search-result-entries\")\n",
    "\n",
    "table_data = []\n",
    "\n",
    "rows = table.find_elements(By.TAG_NAME, \"tr\")\n",
    "\n",
    "for row in rows:\n",
    "    row_data = []\n",
    "    cells = row.find_elements(By.TAG_NAME, \"td\")\n",
    "    for cell in cells:\n",
    "        row_data.append(cell.text)\n",
    "    table_data.append(row_data)\n",
    "    \n",
    "# Print the stored table data\n",
    "for row_data in table_data:\n",
    "    print(row_data)"
   ]
  },
  {
   "cell_type": "code",
   "execution_count": 3,
   "id": "09f9fc67-f01f-4099-8842-e9ca40fccb9f",
   "metadata": {},
   "outputs": [
    {
     "name": "stdout",
     "output_type": "stream",
     "text": [
      "Table data has been written to data.csv.\n"
     ]
    }
   ],
   "source": [
    "# storing the list data into the csv\n",
    "import csv\n",
    "csv_file = 'data.csv'\n",
    "#a-append\n",
    "with open(csv_file, mode='a', newline='', encoding='utf-8') as file:\n",
    "    writer = csv.writer(file)\n",
    "    writer.writerows(table_data)\n",
    "\n",
    "print(f\"Table data has been written to {csv_file}.\")"
   ]
  },
  {
   "cell_type": "code",
   "execution_count": 4,
   "id": "6d22bd2d-a92c-4d20-94ad-f42f2244cfde",
   "metadata": {},
   "outputs": [],
   "source": [
    "# adding lables to the csv\n",
    "import csv\n",
    "with open('data.csv', newline='') as f:\n",
    "    reader = csv.reader(f)\n",
    "    data = list(reader)\n",
    "    \n",
    "# Check if the first row is empty\n",
    "if not data[0]:\n",
    "    # Add the header row to the first row\n",
    "    header = ['Charity number', 'Charity name', 'Status', 'Income', 'Reporting']\n",
    "    data[0] = header\n",
    "    \n",
    "# Write the updated data back to the CSV file\n",
    "with open('data.csv', 'w', newline='') as f:\n",
    "    writer = csv.writer(f)\n",
    "    writer.writerows(data)"
   ]
  },
  {
   "cell_type": "code",
   "execution_count": 5,
   "id": "99e65710-c4c0-4f6b-bb1e-2b6cf49108f9",
   "metadata": {},
   "outputs": [
    {
     "name": "stdout",
     "output_type": "stream",
     "text": [
      "['https://register-of-charities.charitycommission.gov.uk/charity-search/-/charity-details/205533']\n",
      "['https://register-of-charities.charitycommission.gov.uk/charity-search/-/charity-details/210183']\n",
      "['https://register-of-charities.charitycommission.gov.uk/charity-search/-/charity-details/3961959']\n",
      "[]\n"
     ]
    }
   ],
   "source": [
    "# getting the link of the charity(i.e. gov.uk) and storing in list of lists\n",
    "table = driver.find_element(By.ID, \"_uk_gov_ccew_portlet_CharitySearchPortlet_search-result-entries\")\n",
    "\n",
    "table_rows = table.find_elements(By.TAG_NAME, \"tr\")\n",
    "\n",
    "list_of_links = []\n",
    "for row in table_rows[1:]:                   #started from because 0th row has the heading links\n",
    "    link_elements = row.find_elements(By.TAG_NAME, \"a\")\n",
    "    link_list = []\n",
    "    for i in link_elements:\n",
    "        href = i.get_attribute(\"href\")\n",
    "        link_list.append(href)\n",
    "    list_of_links.append(link_list)\n",
    "\n",
    "#printing the href links\n",
    "for j in list_of_links:\n",
    "    print(j)"
   ]
  },
  {
   "cell_type": "code",
   "execution_count": 6,
   "id": "e1d1c6fa-33e0-4bfe-b065-5649c0c1f34b",
   "metadata": {},
   "outputs": [
    {
     "name": "stderr",
     "output_type": "stream",
     "text": [
      "C:\\Users\\srkar\\AppData\\Local\\Temp\\ipykernel_2520\\4021422516.py:2: DeprecationWarning: \n",
      "Pyarrow will become a required dependency of pandas in the next major release of pandas (pandas 3.0),\n",
      "(to allow more performant data types, such as the Arrow string type, and better interoperability with other libraries)\n",
      "but was not found to be installed on your system.\n",
      "If this would cause problems for you,\n",
      "please provide us feedback at https://github.com/pandas-dev/pandas/issues/54466\n",
      "        \n",
      "  import pandas as pd\n"
     ]
    }
   ],
   "source": [
    "#adding the charity gov.uk links to existing csv\n",
    "import pandas as pd\n",
    "data=pd.read_csv(\"data.csv\")\n",
    "\n",
    "links_df = pd.DataFrame(list_of_links, columns=[f'links' for i in range(len(list_of_links[1]))])\n",
    "\n",
    "# Concatenate the DataFrames\n",
    "result_df = pd.concat([data, links_df], axis=1)\n",
    "\n",
    "# Save the updated DataFrame back to the CSV file\n",
    "result_df.to_csv('data.csv', index=False)\n"
   ]
  },
  {
   "cell_type": "code",
   "execution_count": 7,
   "id": "9dc4d1be-8629-4448-9b28-2a693db2c966",
   "metadata": {},
   "outputs": [
    {
     "data": {
      "text/html": [
       "<div>\n",
       "<style scoped>\n",
       "    .dataframe tbody tr th:only-of-type {\n",
       "        vertical-align: middle;\n",
       "    }\n",
       "\n",
       "    .dataframe tbody tr th {\n",
       "        vertical-align: top;\n",
       "    }\n",
       "\n",
       "    .dataframe thead th {\n",
       "        text-align: right;\n",
       "    }\n",
       "</style>\n",
       "<table border=\"1\" class=\"dataframe\">\n",
       "  <thead>\n",
       "    <tr style=\"text-align: right;\">\n",
       "      <th></th>\n",
       "      <th>Charity number</th>\n",
       "      <th>Charity name</th>\n",
       "      <th>Status</th>\n",
       "      <th>Income</th>\n",
       "      <th>Reporting</th>\n",
       "      <th>links</th>\n",
       "    </tr>\n",
       "  </thead>\n",
       "  <tbody>\n",
       "    <tr>\n",
       "      <th>0</th>\n",
       "      <td>205533.0</td>\n",
       "      <td>NUFFIELD HEALTH</td>\n",
       "      <td>Registered</td>\n",
       "      <td>£1,238,400,000</td>\n",
       "      <td>Received: On time</td>\n",
       "      <td>https://register-of-charities.charitycommissio...</td>\n",
       "    </tr>\n",
       "    <tr>\n",
       "      <th>1</th>\n",
       "      <td>210183.0</td>\n",
       "      <td>WELLCOME TRUST</td>\n",
       "      <td>Registered</td>\n",
       "      <td>£502,291,234</td>\n",
       "      <td>Received: On time</td>\n",
       "      <td>https://register-of-charities.charitycommissio...</td>\n",
       "    </tr>\n",
       "    <tr>\n",
       "      <th>2</th>\n",
       "      <td>1076822.0</td>\n",
       "      <td>SAVE THE CHILDREN INTERNATIONAL</td>\n",
       "      <td>Registered</td>\n",
       "      <td>£1,309,489,397</td>\n",
       "      <td>Received: On time</td>\n",
       "      <td>https://register-of-charities.charitycommissio...</td>\n",
       "    </tr>\n",
       "  </tbody>\n",
       "</table>\n",
       "</div>"
      ],
      "text/plain": [
       "   Charity number                     Charity name      Status  \\\n",
       "0        205533.0                  NUFFIELD HEALTH  Registered   \n",
       "1        210183.0                   WELLCOME TRUST  Registered   \n",
       "2       1076822.0  SAVE THE CHILDREN INTERNATIONAL  Registered   \n",
       "\n",
       "           Income          Reporting  \\\n",
       "0  £1,238,400,000  Received: On time   \n",
       "1    £502,291,234  Received: On time   \n",
       "2  £1,309,489,397  Received: On time   \n",
       "\n",
       "                                               links  \n",
       "0  https://register-of-charities.charitycommissio...  \n",
       "1  https://register-of-charities.charitycommissio...  \n",
       "2  https://register-of-charities.charitycommissio...  "
      ]
     },
     "execution_count": 7,
     "metadata": {},
     "output_type": "execute_result"
    }
   ],
   "source": [
    "#checking whether the column added or not\n",
    "import pandas as pd\n",
    "data=pd.read_csv(\"data.csv\")\n",
    "data.head(3)"
   ]
  }
 ],
 "metadata": {
  "kernelspec": {
   "display_name": "Python 3 (ipykernel)",
   "language": "python",
   "name": "python3"
  },
  "language_info": {
   "codemirror_mode": {
    "name": "ipython",
    "version": 3
   },
   "file_extension": ".py",
   "mimetype": "text/x-python",
   "name": "python",
   "nbconvert_exporter": "python",
   "pygments_lexer": "ipython3",
   "version": "3.10.11"
  }
 },
 "nbformat": 4,
 "nbformat_minor": 5
}
