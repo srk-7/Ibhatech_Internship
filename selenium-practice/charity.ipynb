{
 "cells": [
  {
   "cell_type": "code",
   "execution_count": 1,
   "id": "a74e3620-1485-44ff-934b-397ea8fc3796",
   "metadata": {},
   "outputs": [],
   "source": [
    "import selenium\n",
    "from selenium import webdriver\n",
    "from selenium.webdriver.common.by import By\n",
    "from selenium.webdriver.support.ui import WebDriverWait\n",
    "from selenium.webdriver.support import expected_conditions as EC"
   ]
  },
  {
   "cell_type": "code",
   "execution_count": 2,
   "id": "f6632bf6-9408-406b-914a-ce1d97b88cb1",
   "metadata": {},
   "outputs": [],
   "source": [
    "driver=webdriver.Chrome()\n",
    "driver.get(\"https://register-of-charities.charitycommission.gov.uk/charity-search?p_p_id=uk_gov_ccew_portlet_CharitySearchPortlet&p_p_lifecycle=0&p_p_state=normal&p_p_mode=view&_uk_gov_ccew_portlet_CharitySearchPortlet_mvcRenderCommandName=%2Fadvanced-search\")"
   ]
  },
  {
   "cell_type": "code",
   "execution_count": 3,
   "id": "90067dd1-5c4f-4b6f-8113-0a3b7a8e1148",
   "metadata": {},
   "outputs": [],
   "source": [
    "cross_button=driver.find_element(By.ID, \"_com_placecube_cookieconsent_web_portlet_CookieConsentPortlet_cookie-consent-close\")\n",
    "cross_button.click()"
   ]
  },
  {
   "cell_type": "code",
   "execution_count": 4,
   "id": "b1954493-3649-4f72-b52a-62f2a71e8547",
   "metadata": {},
   "outputs": [],
   "source": [
    "txt1=driver.find_element(By.ID,\"_uk_gov_ccew_portlet_CharitySearchPortlet_filterExpenditureFrom\")\n",
    "txt1.send_keys(\"200000\")"
   ]
  },
  {
   "cell_type": "code",
   "execution_count": 5,
   "id": "577e4632-471a-41dc-8409-8b7d1b8d6df0",
   "metadata": {},
   "outputs": [],
   "source": [
    "txt1=driver.find_element(By.ID,\"_uk_gov_ccew_portlet_CharitySearchPortlet_filterExpenditureTo\")\n",
    "txt1.send_keys(\"400000\")"
   ]
  },
  {
   "cell_type": "code",
   "execution_count": 6,
   "id": "b06b0574-c2cc-4ab9-95f0-7204289bbcdd",
   "metadata": {},
   "outputs": [],
   "source": [
    "searchbutton=driver.find_element(By.ID, \"_uk_gov_ccew_portlet_CharitySearchPortlet_applyFilters\")\n",
    "searchbutton.click()"
   ]
  },
  {
   "cell_type": "code",
   "execution_count": 7,
   "id": "613bf53b-42e1-4d86-911c-cd687d092036",
   "metadata": {},
   "outputs": [
    {
     "name": "stdout",
     "output_type": "stream",
     "text": [
      "[]\n",
      "['200027', 'RURAL MINISTRIES', 'Registered', '£235,579', 'Received: On time']\n",
      "['200097', 'BARTON AND ROYLE HOMES', 'Registered', '£125,888', 'Received: On time']\n",
      "['200166', \"MRS JANE CART'S TRUST\", 'Registered', '£184,581', 'Received: On time']\n",
      "['200176', 'THE HOSPITAL OF ST JOHN THE BAPTIST', 'Registered', '£327,798', 'Received: On time']\n",
      "['200183', 'LEATHERHEAD UNITED CHARITIES', 'Registered', '£340,675', 'Received: On time']\n",
      "['200290', 'THE MRS HENRIETTA FRANCES LE PERSONNE BENEVOLENT TRUST', 'Registered', '£379,428', 'Received: On time']\n",
      "['200606', 'PARTIS COLLEGE', 'Registered', '£285,485', 'Received: On time']\n",
      "['200669', 'HOSPITAL OF ST JOHN HEYTESBURY', 'Registered', '£319,593', 'Received: On time']\n",
      "['200671', 'NEWBURY MUNICIPAL CHARITIES', 'Registered', '£176,056', 'Received: On time']\n",
      "['200843', 'THE NORTH STAFFORDSHIRE MEDICAL INSTITUTE LIMITED', 'Registered', '£260,834', 'Received: On time']\n",
      "['201030', 'MID THAMES AREA QUAKER MEETING AND RELATED CHARITIES', 'Registered', '£291,852', 'Received: On time']\n",
      "['201105', \"THE FRIENDS OF ST PETER'S HOSPITAL, CHERTSEY\", 'Registered', '£1,701', 'Received: On time']\n",
      "['201277', 'NORTHCOTT DEVON FOUNDATION', 'Registered', '£185,483', 'Received: On time']\n",
      "['201291', 'ROYAL SOCIETY FOR THE PREVENTION OF CRUELTY TO ANIMALS - HANTS AND SURREY BORDER BRANCH', 'Registered', '£304,920', 'Received: On time']\n",
      "['201418', 'BANBURY CHARITIES', 'Registered', '£436,290', 'Received: On time']\n",
      "['201486', \"SIR THOMAS WHITE'S NORTHAMPTON CHARITY\", 'Registered', '£388,715', 'Received: On time']\n",
      "['201574', 'KINGS CLIFFE ALMSHOUSE CHARITY', 'Registered', '£15,936', 'Received: On time']\n",
      "['201589', 'THE EDGAR E LAWLEY FOUNDATION', 'Registered', '£205,707', 'Received: On time']\n",
      "['201687', \"THE ROYAL ALBERT AND ST SWITHUN'S HOMES\", 'Registered', '£165,068', 'Received: 20 days late']\n",
      "['201720', 'THE COLLEGE OF MATRONS', 'Registered', '£215,144', 'Received: On time']\n",
      "['', '', '', '', '']\n"
     ]
    }
   ],
   "source": [
    "table = driver.find_element(By.ID, \"_uk_gov_ccew_portlet_CharitySearchPortlet_search-result-entries\")\n",
    "\n",
    "table_data = []\n",
    "\n",
    "rows = table.find_elements(By.TAG_NAME, \"tr\")\n",
    "\n",
    "for row in rows:\n",
    "    row_data = []\n",
    "    cells = row.find_elements(By.TAG_NAME, \"td\")\n",
    "    for cell in cells:\n",
    "        row_data.append(cell.text)\n",
    "    table_data.append(row_data)\n",
    "    \n",
    "# Print the stored table data\n",
    "for row_data in table_data:\n",
    "    print(row_data)"
   ]
  },
  {
   "cell_type": "code",
   "execution_count": 8,
   "id": "24f07e2b-aea3-456b-b54e-80848383f336",
   "metadata": {},
   "outputs": [
    {
     "name": "stdout",
     "output_type": "stream",
     "text": [
      "Table data has been written to firstpage-charity.csv.\n"
     ]
    }
   ],
   "source": [
    "import csv\n",
    "csv_file = 'firstpage-charity.csv'\n",
    "#a-append\n",
    "with open(csv_file, mode='a', newline='', encoding='utf-8') as file:\n",
    "    writer = csv.writer(file)\n",
    "    writer.writerows(table_data)\n",
    "\n",
    "print(f\"Table data has been written to {csv_file}.\")\n"
   ]
  },
  {
   "cell_type": "code",
   "execution_count": 18,
   "id": "ca9f006a-f107-49d8-a882-2ced76e4994b",
   "metadata": {},
   "outputs": [],
   "source": [
    "table = driver.find_element(By.ID, \"_uk_gov_ccew_portlet_CharitySearchPortlet_search-result-entries\")\n",
    "\n",
    "table_rows = table.find_elements(By.TAG_NAME, \"tr\")\n",
    "\n",
    "list_of_links = []\n",
    "for row in table_rows[1:]:                   #started from because 0th row has the heading links\n",
    "    link_elements = row.find_elements(By.TAG_NAME, \"a\")\n",
    "    link_list = []\n",
    "    for i in link_elements:\n",
    "        href = i.get_attribute(\"href\")\n",
    "        link_list.append(href)\n",
    "    list_of_links.append(link_list)"
   ]
  },
  {
   "cell_type": "code",
   "execution_count": 19,
   "id": "0382c0e8-af54-4da6-a1a1-b17d9827de8e",
   "metadata": {},
   "outputs": [
    {
     "name": "stdout",
     "output_type": "stream",
     "text": [
      "['https://register-of-charities.charitycommission.gov.uk/charity-search/-/charity-details/200027']\n",
      "['https://register-of-charities.charitycommission.gov.uk/charity-search/-/charity-details/200097']\n",
      "['https://register-of-charities.charitycommission.gov.uk/charity-search/-/charity-details/200166']\n",
      "['https://register-of-charities.charitycommission.gov.uk/charity-search/-/charity-details/200176']\n",
      "['https://register-of-charities.charitycommission.gov.uk/charity-search/-/charity-details/200183']\n",
      "['https://register-of-charities.charitycommission.gov.uk/charity-search/-/charity-details/200290']\n",
      "['https://register-of-charities.charitycommission.gov.uk/charity-search/-/charity-details/200606']\n",
      "['https://register-of-charities.charitycommission.gov.uk/charity-search/-/charity-details/200669']\n",
      "['https://register-of-charities.charitycommission.gov.uk/charity-search/-/charity-details/200671']\n",
      "['https://register-of-charities.charitycommission.gov.uk/charity-search/-/charity-details/200843']\n",
      "['https://register-of-charities.charitycommission.gov.uk/charity-search/-/charity-details/201030']\n",
      "['https://register-of-charities.charitycommission.gov.uk/charity-search/-/charity-details/201105']\n",
      "['https://register-of-charities.charitycommission.gov.uk/charity-search/-/charity-details/201277']\n",
      "['https://register-of-charities.charitycommission.gov.uk/charity-search/-/charity-details/201291']\n",
      "['https://register-of-charities.charitycommission.gov.uk/charity-search/-/charity-details/201418']\n",
      "['https://register-of-charities.charitycommission.gov.uk/charity-search/-/charity-details/201486']\n",
      "['https://register-of-charities.charitycommission.gov.uk/charity-search/-/charity-details/201574']\n",
      "['https://register-of-charities.charitycommission.gov.uk/charity-search/-/charity-details/201589']\n",
      "['https://register-of-charities.charitycommission.gov.uk/charity-search/-/charity-details/201687']\n",
      "['https://register-of-charities.charitycommission.gov.uk/charity-search/-/charity-details/201720']\n",
      "[]\n"
     ]
    }
   ],
   "source": [
    "for j in list_of_links:\n",
    "    print(j)"
   ]
  },
  {
   "cell_type": "code",
   "execution_count": 22,
   "id": "a00a4c31-e010-46ab-b8d9-33a1633ff1b3",
   "metadata": {},
   "outputs": [
    {
     "data": {
      "text/html": [
       "<div>\n",
       "<style scoped>\n",
       "    .dataframe tbody tr th:only-of-type {\n",
       "        vertical-align: middle;\n",
       "    }\n",
       "\n",
       "    .dataframe tbody tr th {\n",
       "        vertical-align: top;\n",
       "    }\n",
       "\n",
       "    .dataframe thead th {\n",
       "        text-align: right;\n",
       "    }\n",
       "</style>\n",
       "<table border=\"1\" class=\"dataframe\">\n",
       "  <thead>\n",
       "    <tr style=\"text-align: right;\">\n",
       "      <th></th>\n",
       "      <th>Charity Number</th>\n",
       "      <th>Charity Name</th>\n",
       "      <th>Status</th>\n",
       "      <th>Income</th>\n",
       "      <th>Reporting</th>\n",
       "    </tr>\n",
       "  </thead>\n",
       "  <tbody>\n",
       "    <tr>\n",
       "      <th>0</th>\n",
       "      <td>200027</td>\n",
       "      <td>RURAL MINISTRIES</td>\n",
       "      <td>Registered</td>\n",
       "      <td>£235,579</td>\n",
       "      <td>Received: On time</td>\n",
       "    </tr>\n",
       "    <tr>\n",
       "      <th>1</th>\n",
       "      <td>200097</td>\n",
       "      <td>BARTON AND ROYLE HOMES</td>\n",
       "      <td>Registered</td>\n",
       "      <td>£125,888</td>\n",
       "      <td>Received: On time</td>\n",
       "    </tr>\n",
       "  </tbody>\n",
       "</table>\n",
       "</div>"
      ],
      "text/plain": [
       "   Charity Number            Charity Name      Status    Income  \\\n",
       "0          200027        RURAL MINISTRIES  Registered  £235,579   \n",
       "1          200097  BARTON AND ROYLE HOMES  Registered  £125,888   \n",
       "\n",
       "           Reporting  \n",
       "0  Received: On time  \n",
       "1  Received: On time  "
      ]
     },
     "execution_count": 22,
     "metadata": {},
     "output_type": "execute_result"
    }
   ],
   "source": [
    "import pandas as pd\n",
    "data=pd.read_csv(\"firstpage-charity.csv\")\n",
    "data.head(2)"
   ]
  },
  {
   "cell_type": "code",
   "execution_count": 24,
   "id": "475d4936-eda6-492c-9e5c-b832461fefac",
   "metadata": {},
   "outputs": [],
   "source": [
    "#logic from bard\n",
    "\n",
    "links_df = pd.DataFrame(list_of_links, columns=[f'link_{i+1}' for i in range(len(list_of_links[1]))])\n",
    "\n",
    "# Concatenate the DataFrames\n",
    "result_df = pd.concat([data, links_df], axis=1)\n",
    "\n",
    "# Save the updated DataFrame back to a new CSV file\n",
    "result_df.to_csv('firstpage-withlinks.csv', index=False)"
   ]
  },
  {
   "cell_type": "code",
   "execution_count": 26,
   "id": "9a552fd1-5dd9-4bbe-bf94-ca4a8e8292bc",
   "metadata": {},
   "outputs": [
    {
     "data": {
      "text/html": [
       "<div>\n",
       "<style scoped>\n",
       "    .dataframe tbody tr th:only-of-type {\n",
       "        vertical-align: middle;\n",
       "    }\n",
       "\n",
       "    .dataframe tbody tr th {\n",
       "        vertical-align: top;\n",
       "    }\n",
       "\n",
       "    .dataframe thead th {\n",
       "        text-align: right;\n",
       "    }\n",
       "</style>\n",
       "<table border=\"1\" class=\"dataframe\">\n",
       "  <thead>\n",
       "    <tr style=\"text-align: right;\">\n",
       "      <th></th>\n",
       "      <th>Charity Number</th>\n",
       "      <th>Charity Name</th>\n",
       "      <th>Status</th>\n",
       "      <th>Income</th>\n",
       "      <th>Reporting</th>\n",
       "      <th>links</th>\n",
       "    </tr>\n",
       "  </thead>\n",
       "  <tbody>\n",
       "    <tr>\n",
       "      <th>0</th>\n",
       "      <td>200027</td>\n",
       "      <td>RURAL MINISTRIES</td>\n",
       "      <td>Registered</td>\n",
       "      <td>£235,579</td>\n",
       "      <td>Received: On time</td>\n",
       "      <td>https://register-of-charities.charitycommissio...</td>\n",
       "    </tr>\n",
       "    <tr>\n",
       "      <th>1</th>\n",
       "      <td>200097</td>\n",
       "      <td>BARTON AND ROYLE HOMES</td>\n",
       "      <td>Registered</td>\n",
       "      <td>£125,888</td>\n",
       "      <td>Received: On time</td>\n",
       "      <td>https://register-of-charities.charitycommissio...</td>\n",
       "    </tr>\n",
       "  </tbody>\n",
       "</table>\n",
       "</div>"
      ],
      "text/plain": [
       "   Charity Number            Charity Name      Status    Income  \\\n",
       "0          200027        RURAL MINISTRIES  Registered  £235,579   \n",
       "1          200097  BARTON AND ROYLE HOMES  Registered  £125,888   \n",
       "\n",
       "           Reporting                                              links  \n",
       "0  Received: On time  https://register-of-charities.charitycommissio...  \n",
       "1  Received: On time  https://register-of-charities.charitycommissio...  "
      ]
     },
     "execution_count": 26,
     "metadata": {},
     "output_type": "execute_result"
    }
   ],
   "source": [
    "import pandas as pd\n",
    "data=pd.read_csv(\"your_updated_file.csv\")\n",
    "data.head(2)"
   ]
  }
 ],
 "metadata": {
  "kernelspec": {
   "display_name": "Python 3 (ipykernel)",
   "language": "python",
   "name": "python3"
  },
  "language_info": {
   "codemirror_mode": {
    "name": "ipython",
    "version": 3
   },
   "file_extension": ".py",
   "mimetype": "text/x-python",
   "name": "python",
   "nbconvert_exporter": "python",
   "pygments_lexer": "ipython3",
   "version": "3.10.11"
  }
 },
 "nbformat": 4,
 "nbformat_minor": 5
}
