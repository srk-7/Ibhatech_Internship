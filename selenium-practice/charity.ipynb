{
 "cells": [
  {
   "cell_type": "code",
   "execution_count": 25,
   "id": "a74e3620-1485-44ff-934b-397ea8fc3796",
   "metadata": {},
   "outputs": [],
   "source": [
    "import selenium\n",
    "from selenium import webdriver\n",
    "from selenium.webdriver.common.by import By\n",
    "from selenium.webdriver.support.ui import WebDriverWait\n",
    "from selenium.webdriver.support import expected_conditions as EC"
   ]
  },
  {
   "cell_type": "code",
   "execution_count": 26,
   "id": "f6632bf6-9408-406b-914a-ce1d97b88cb1",
   "metadata": {},
   "outputs": [],
   "source": [
    "driver=webdriver.Chrome()\n",
    "driver.get(\"https://register-of-charities.charitycommission.gov.uk/charity-search?p_p_id=uk_gov_ccew_portlet_CharitySearchPortlet&p_p_lifecycle=0&p_p_state=normal&p_p_mode=view&_uk_gov_ccew_portlet_CharitySearchPortlet_mvcRenderCommandName=%2Fadvanced-search\")"
   ]
  },
  {
   "cell_type": "code",
   "execution_count": 27,
   "id": "90067dd1-5c4f-4b6f-8113-0a3b7a8e1148",
   "metadata": {},
   "outputs": [],
   "source": [
    "# #removed cross button\n",
    "# cbutton = WebDriverWait(driver, 10).until(EC.presence_of_element_located((By.ID, '_com_placecube_cookieconsent_web_portlet_CookieConsentPortlet_cookie-consent-close')))\n",
    "# cbutton.click()\n",
    "#or\n",
    "cross_button=driver.find_element(By.ID, \"_com_placecube_cookieconsent_web_portlet_CookieConsentPortlet_cookie-consent-close\")\n",
    "cross_button.click()\n"
   ]
  },
  {
   "cell_type": "code",
   "execution_count": 28,
   "id": "b1954493-3649-4f72-b52a-62f2a71e8547",
   "metadata": {},
   "outputs": [],
   "source": [
    "txt1=driver.find_element(By.ID,\"_uk_gov_ccew_portlet_CharitySearchPortlet_filterExpenditureFrom\")\n",
    "txt1.send_keys(\"200000\")"
   ]
  },
  {
   "cell_type": "code",
   "execution_count": 6,
   "id": "577e4632-471a-41dc-8409-8b7d1b8d6df0",
   "metadata": {},
   "outputs": [],
   "source": [
    "txt1=driver.find_element(By.ID,\"_uk_gov_ccew_portlet_CharitySearchPortlet_filterExpenditureTo\")\n",
    "txt1.send_keys(\"400000\")"
   ]
  },
  {
   "cell_type": "code",
   "execution_count": 29,
   "id": "b06b0574-c2cc-4ab9-95f0-7204289bbcdd",
   "metadata": {},
   "outputs": [],
   "source": [
    "searchbutton=driver.find_element(By.ID, \"_uk_gov_ccew_portlet_CharitySearchPortlet_applyFilters\")\n",
    "searchbutton.click()"
   ]
  },
  {
   "cell_type": "code",
   "execution_count": 30,
   "id": "613bf53b-42e1-4d86-911c-cd687d092036",
   "metadata": {},
   "outputs": [
    {
     "name": "stdout",
     "output_type": "stream",
     "text": [
      "[]\n",
      "['200009', 'THE RALPH LEVY CHARITABLE COMPANY LIMITED', 'Registered', '£460,395', 'Received: On time']\n",
      "['200027', 'RURAL MINISTRIES', 'Registered', '£235,579', 'Received: On time']\n",
      "['200048', 'THE FEDERATION OF BRITISH ARTISTS', 'Registered', '£1,339,496', 'Received: On time']\n",
      "['200051', 'ESMEE FAIRBAIRN FOUNDATION', 'Registered', '£7,209,000', 'Received: On time']\n",
      "['200069', 'RICHMOND PARISH LANDS CHARITY', 'Registered', '£2,409,218', 'Received: On time']\n",
      "['200097', 'BARTON AND ROYLE HOMES', 'Registered', '£125,888', 'Received: On time']\n",
      "['200103', 'The Barnes Fund', 'Registered', '£724,881', 'Received: On time']\n",
      "['200166', \"MRS JANE CART'S TRUST\", 'Registered', '£184,581', 'Received: On time']\n",
      "['200176', 'THE HOSPITAL OF ST JOHN THE BAPTIST', 'Registered', '£327,798', 'Received: On time']\n",
      "['200183', 'LEATHERHEAD UNITED CHARITIES', 'Registered', '£340,675', 'Received: On time']\n",
      "['200198', 'THE 29TH MAY 1961 CHARITY', 'Registered', '£5,337,726', 'Received: On time']\n",
      "['200222', 'DORSET WILDLIFE TRUST', 'Registered', '£5,096,908', 'Received: On time']\n",
      "['200240', 'CHURCH EXTENSION ASSOCIATION (INCORPORATED)', 'Registered', '£595,034', 'Received: On time']\n",
      "['200290', 'THE MRS HENRIETTA FRANCES LE PERSONNE BENEVOLENT TRUST', 'Registered', '£379,428', 'Received: On time']\n",
      "['200359', 'MEATH EPILEPSY CHARITY', 'Registered', '£7,323,365', 'Received: On time']\n",
      "['200376', 'SISTERS OF MERCY, GRAVESEND, KENT', 'Registered', '£385,352', 'Received: On time']\n",
      "['200424', 'WIMBLEDON GUILD OF SOCIAL WELFARE (INCORPORATED)', 'Registered', '£1,795,929', 'Received: On time']\n",
      "['200431', 'RICHMOND CHARITIES', 'Registered', '£4,479,713', 'Received: On time']\n",
      "['200453', 'THE RICHMOND FELLOWSHIP', 'Registered', '£47,860,000', 'Received: On time']\n",
      "['200463', 'AGE CONCERN, LUTON', 'Registered', '£986,165', 'Received: On time']\n",
      "['', '', '', '', '']\n"
     ]
    }
   ],
   "source": [
    "table = driver.find_element(By.ID, \"_uk_gov_ccew_portlet_CharitySearchPortlet_search-result-entries\")\n",
    "\n",
    "table_data = []\n",
    "\n",
    "rows = table.find_elements(By.TAG_NAME, \"tr\")\n",
    "\n",
    "for row in rows:\n",
    "    row_data = []\n",
    "    cells = row.find_elements(By.TAG_NAME, \"td\")\n",
    "    for cell in cells:\n",
    "        row_data.append(cell.text)\n",
    "    table_data.append(row_data)\n",
    "    \n",
    "# Print the stored table data\n",
    "for row_data in table_data:\n",
    "    print(row_data)"
   ]
  },
  {
   "cell_type": "code",
   "execution_count": null,
   "id": "1ec9b39d-d806-413f-9d5d-377f18ac69d8",
   "metadata": {},
   "outputs": [],
   "source": []
  },
  {
   "cell_type": "code",
   "execution_count": 24,
   "id": "24f07e2b-aea3-456b-b54e-80848383f336",
   "metadata": {},
   "outputs": [
    {
     "name": "stdout",
     "output_type": "stream",
     "text": [
      "Table data has been written to table_data1.csv.\n"
     ]
    }
   ],
   "source": [
    "import csv\n",
    "csv_file = 'table_data1.csv'\n",
    "with open(csv_file, mode='w', newline='', encoding='utf-8') as file:\n",
    "    writer = csv.writer(file)\n",
    "    writer.writerows(table_data)\n",
    "\n",
    "print(f\"Table data has been written to {csv_file}.\")\n"
   ]
  }
 ],
 "metadata": {
  "kernelspec": {
   "display_name": "Python 3 (ipykernel)",
   "language": "python",
   "name": "python3"
  },
  "language_info": {
   "codemirror_mode": {
    "name": "ipython",
    "version": 3
   },
   "file_extension": ".py",
   "mimetype": "text/x-python",
   "name": "python",
   "nbconvert_exporter": "python",
   "pygments_lexer": "ipython3",
   "version": "3.10.11"
  }
 },
 "nbformat": 4,
 "nbformat_minor": 5
}
