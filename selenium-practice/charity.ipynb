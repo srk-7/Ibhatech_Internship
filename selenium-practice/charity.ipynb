{
 "cells": [
  {
   "cell_type": "code",
   "execution_count": 10,
   "id": "a74e3620-1485-44ff-934b-397ea8fc3796",
   "metadata": {},
   "outputs": [],
   "source": [
    "import selenium\n",
    "from selenium import webdriver\n",
    "from selenium.webdriver.common.by import By\n",
    "from selenium.webdriver.support.ui import WebDriverWait\n",
    "from selenium.webdriver.support import expected_conditions as EC"
   ]
  },
  {
   "cell_type": "code",
   "execution_count": 17,
   "id": "f6632bf6-9408-406b-914a-ce1d97b88cb1",
   "metadata": {},
   "outputs": [],
   "source": [
    "driver=webdriver.Chrome()\n",
    "driver.get(\"https://register-of-charities.charitycommission.gov.uk/charity-search?p_p_id=uk_gov_ccew_portlet_CharitySearchPortlet&p_p_lifecycle=0&p_p_state=normal&p_p_mode=view&_uk_gov_ccew_portlet_CharitySearchPortlet_mvcRenderCommandName=%2Fadvanced-search\")"
   ]
  },
  {
   "cell_type": "code",
   "execution_count": 18,
   "id": "90067dd1-5c4f-4b6f-8113-0a3b7a8e1148",
   "metadata": {},
   "outputs": [],
   "source": [
    "# #removed cross button\n",
    "# cbutton = WebDriverWait(driver, 10).until(EC.presence_of_element_located((By.ID, '_com_placecube_cookieconsent_web_portlet_CookieConsentPortlet_cookie-consent-close')))\n",
    "# cbutton.click()\n",
    "\n",
    "button=driver.find_element(By.ID, \"_com_placecube_cookieconsent_web_portlet_CookieConsentPortlet_cookie-consent-close\")\n",
    "button.click()\n"
   ]
  },
  {
   "cell_type": "code",
   "execution_count": 22,
   "id": "b1954493-3649-4f72-b52a-62f2a71e8547",
   "metadata": {},
   "outputs": [],
   "source": [
    "txt1=driver.find_element(By.ID,\"_uk_gov_ccew_portlet_CharitySearchPortlet_filterExpenditureFrom\")\n",
    "txt1.send_keys(\"200000\")"
   ]
  },
  {
   "cell_type": "code",
   "execution_count": 23,
   "id": "577e4632-471a-41dc-8409-8b7d1b8d6df0",
   "metadata": {},
   "outputs": [],
   "source": [
    "txt1=driver.find_element(By.ID,\"_uk_gov_ccew_portlet_CharitySearchPortlet_filterExpenditureTo\")\n",
    "txt1.send_keys(\"400000\")"
   ]
  },
  {
   "cell_type": "code",
   "execution_count": 24,
   "id": "b06b0574-c2cc-4ab9-95f0-7204289bbcdd",
   "metadata": {},
   "outputs": [],
   "source": [
    "searchbutton=driver.find_element(By.ID, \"_uk_gov_ccew_portlet_CharitySearchPortlet_applyFilters\")\n",
    "searchbutton.click()"
   ]
  },
  {
   "cell_type": "code",
   "execution_count": null,
   "id": "613bf53b-42e1-4d86-911c-cd687d092036",
   "metadata": {},
   "outputs": [],
   "source": []
  }
 ],
 "metadata": {
  "kernelspec": {
   "display_name": "Python 3 (ipykernel)",
   "language": "python",
   "name": "python3"
  },
  "language_info": {
   "codemirror_mode": {
    "name": "ipython",
    "version": 3
   },
   "file_extension": ".py",
   "mimetype": "text/x-python",
   "name": "python",
   "nbconvert_exporter": "python",
   "pygments_lexer": "ipython3",
   "version": "3.10.11"
  }
 },
 "nbformat": 4,
 "nbformat_minor": 5
}
